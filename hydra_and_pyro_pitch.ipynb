{
 "cells": [
  {
   "cell_type": "code",
   "execution_count": 1,
   "metadata": {},
   "outputs": [],
   "source": [
    "from hydra import initialize, initialize_config_module, initialize_config_dir, compose\n",
    "from hydra.utils import instantiate\n",
    "from omegaconf import OmegaConf\n",
    "from src.models.time_series_model import HiddenMarkovModel\n",
    "from src.models.transition_models import PLRNN\n",
    "import yaml\n",
    "import pyro\n",
    "import inspect"
   ]
  },
  {
   "cell_type": "markdown",
   "metadata": {},
   "source": [
    "# Hydra\n",
    "\n",
    "The key feature is the ability to dynamically create a hierarchical configuration by composition and override it through config files and the command line.\n",
    "\n",
    "This helps to prevent cluttering the code with args. A simple hydra wrapper (see main file) is enough to connect the code to the configuration files"
   ]
  },
  {
   "cell_type": "markdown",
   "metadata": {},
   "source": [
    "A common pattern is to create a default config from which other configs can inherit and only override certain components. In the following my default config.\n",
    "\n",
    "AS you can see it is hierarchically organized. Each component of a ML Pipeline is given a certain section. The name of the section (e.g. transition_model) has to correspond to a directory name in the config directory ( e.g. `conf /transition_model`). The value corresponds to a certain yaml file ( e.g.` conf /transition_model / dendPLRNN.yaml`)"
   ]
  },
  {
   "cell_type": "code",
   "execution_count": 64,
   "metadata": {},
   "outputs": [
    {
     "name": "stdout",
     "output_type": "stream",
     "text": [
      "defaults:\n",
      "  - _self_\n",
      "  - data: data_module\n",
      "  - module: annealing_module\n",
      "  - guide: rnn\n",
      "  - loss: loss\n",
      "  - observation_model: linear\n",
      "  - transition_model: dendPLRNN\n",
      "  - observation_distribution: normal\n",
      "  - transition_distribution: normal\n",
      "  - optimizer: adam\n",
      "  - training: train\n",
      "  - metriccollection: metriccollection\n",
      "\n",
      "\n",
      "z_dim: 5\n",
      "obs_dim: 19\n",
      "\n",
      "\n"
     ]
    }
   ],
   "source": [
    "default_config_path = \"conf\\default_config.yaml\"\n",
    "\n",
    "def print_yaml(path):\n",
    "    with open(path, \"r\") as f:\n",
    "        print(f.read())\n",
    "\n",
    "\n",
    "print_yaml(default_config_path)"
   ]
  },
  {
   "cell_type": "markdown",
   "metadata": {},
   "source": [
    "Lets look in one of the yaml files:"
   ]
  },
  {
   "cell_type": "code",
   "execution_count": 5,
   "metadata": {},
   "outputs": [
    {
     "name": "stdout",
     "output_type": "stream",
     "text": [
      "_target_: src.models.transition_models.PLRNN\n",
      "z_dim: ${z_dim}\n",
      "connectivity_module:\n",
      "  _target_: src.models.transition_models.DendriticConnector\n",
      "  z_dim: ${z_dim}\n",
      "  B: 10\n",
      "cov_module:\n",
      "  _target_: src.models.transition_models.ConstantCovariance\n",
      "  z_dim: ${z_dim}\n"
     ]
    }
   ],
   "source": [
    "dend_plrnn_path = r\"conf\\transition_model\\dendPLRNN.yaml\"\n",
    "print_yaml(dend_plrnn_path)"
   ]
  },
  {
   "cell_type": "markdown",
   "metadata": {},
   "source": [
    "Multiple things to note here:\n",
    "- \\_target_ keyword is reserved for paths of classes. This helps to instantiate objects  (we'll see an example in a moment) without writing boiler plate code like"
   ]
  },
  {
   "cell_type": "code",
   "execution_count": 66,
   "metadata": {},
   "outputs": [],
   "source": [
    "config = {\"transition_model\" : \"dendPLRNN\"}\n",
    "if config[\"transition_model\"] == \"dendPLRNN\":\n",
    "    ... #instantiate something"
   ]
  },
  {
   "cell_type": "markdown",
   "metadata": {},
   "source": [
    "- The instantiation can be nested. Often it is the case that to instantiate an object one has to first instantiate other objects that need be passed to the constructur. This can easily be done via hydra. E.g. in this example to instantiate a plrnn model one needs two modules: one for the mean vector of the normal distribution and one for the covariance.\n",
    "- you can reference values  of the final config file. E.g. the hidden dimension  is a parameter that is needed all over the place to instantiate Neural NEtworks with respective sizes. Instead of repeating it all over again we can define it at the top and reference it where needed. E.g. via `${z_dim}`\n"
   ]
  },
  {
   "cell_type": "markdown",
   "metadata": {},
   "source": [
    "In this Notebook we will try to replicate the multi modal teacher forcing Pipeline. The respective config file denotes the relative changes. The code is writte to be modular. So it is easy to swap components"
   ]
  },
  {
   "cell_type": "code",
   "execution_count": 6,
   "metadata": {},
   "outputs": [
    {
     "name": "stdout",
     "output_type": "stream",
     "text": [
      "defaults:\n",
      "  - default_config\n",
      "  - _self_\n",
      "  - override observation_model: multi_modal\n",
      "  - override loss: force_elbo\n",
      "  - override observation_distribution: product_distribution\n",
      "  - override data: multimodal_fake_data\n",
      "\n",
      "\n",
      "observation_model:\n",
      "  sub_models:\n",
      "    normal_link:\n",
      "      obs_dim: 4\n",
      "    multinomial_link:\n",
      "      obs_dim: 3\n",
      "    poisson_link:\n",
      "      obs_dim: 2\n",
      "\n",
      "#obs dim has to be sum of all obs_dim in observation_models\n",
      "obs_dim: 9\n",
      "\n",
      "data:\n",
      "  n_rois: 4\n",
      "  n_categorical: 3\n",
      "  n_poisson: 2\n",
      "\n",
      "loss:\n",
      "  forcing_interval: 20\n",
      "\n",
      "\n",
      "hydra:\n",
      "  searchpath:\n",
      "    - file://conf\n"
     ]
    }
   ],
   "source": [
    "multimodal_teacher_forcing_path = r\"conf\\experiments\\multimodal_teacher_forcing.yaml\"\n",
    "print_yaml(multimodal_teacher_forcing_path)"
   ]
  },
  {
   "cell_type": "markdown",
   "metadata": {},
   "source": [
    "Lets now initialze the multi modal teacher forcing  config. This is what will be passed to the main function if wrapped in the hydra wrapper. We will call resolve to resolve references like `${z_dim}`"
   ]
  },
  {
   "cell_type": "code",
   "execution_count": 7,
   "metadata": {},
   "outputs": [],
   "source": [
    "with initialize( version_base  = None, config_path=\"conf/experiments\"):\n",
    "    cfg = compose(config_name=\"multimodal_teacher_forcing.yaml\")\n",
    "    OmegaConf.resolve(cfg)"
   ]
  },
  {
   "cell_type": "code",
   "execution_count": 8,
   "metadata": {},
   "outputs": [
    {
     "name": "stdout",
     "output_type": "stream",
     "text": [
      "z_dim: 5\n",
      "obs_dim: 9\n",
      "data:\n",
      "  _target_: src.data.dataloader.FakeMultiModalDataModule\n",
      "  n_rois: 4\n",
      "  'n': 1\n",
      "  T: 512\n",
      "  n_categories: 4\n",
      "  n_categorical: 3\n",
      "  n_poisson: 2\n",
      "module:\n",
      "  beginning_annealing_factor: 0.1\n",
      "  annealing_epochs: 100\n",
      "guide:\n",
      "  _target_: src.models.guides.RNNGuide\n",
      "  rnn:\n",
      "    _target_: torch.nn.RNN\n",
      "    input_size: 9\n",
      "    hidden_size: 10\n",
      "    nonlinearity: relu\n",
      "    batch_first: true\n",
      "    bidirectional: false\n",
      "    num_layers: 1\n",
      "    dropout: 0\n",
      "  combiner:\n",
      "    _target_: src.models.guides.Combiner\n",
      "    z_dim: 5\n",
      "    rnn_dim: 10\n",
      "  dist:\n",
      "    _target_: hydra.utils.get_class\n",
      "    path: pyro.distributions.Normal\n",
      "loss:\n",
      "  _target_: src.training.losses.TeacherForcingTraceELBO\n",
      "  forcing_interval: 20\n",
      "observation_model:\n",
      "  sub_models:\n",
      "    normal_link:\n",
      "      _target_: src.models.observation_models.LinearObservationModel\n",
      "      obs_dim: 4\n",
      "      z_dim: 5\n",
      "    multinomial_link:\n",
      "      _target_: src.models.observation_models.MultionomialLink\n",
      "      obs_dim: 3\n",
      "      z_dim: 5\n",
      "      n_categories: 4\n",
      "    poisson_link:\n",
      "      _target_: src.models.observation_models.PoissonLink\n",
      "      obs_dim: 2\n",
      "      z_dim: 5\n",
      "  _target_: src.models.observation_models.ListConcat\n",
      "transition_model:\n",
      "  _target_: src.models.transition_models.PLRNN\n",
      "  z_dim: 5\n",
      "  connectivity_module:\n",
      "    _target_: src.models.transition_models.DendriticConnector\n",
      "    z_dim: 5\n",
      "    B: 10\n",
      "  cov_module:\n",
      "    _target_: src.models.transition_models.ConstantCovariance\n",
      "    z_dim: 5\n",
      "observation_distribution:\n",
      "  sub_distributions:\n",
      "    normal:\n",
      "      _target_: hydra.utils.get_method\n",
      "      path: pyro.distributions.torch.Normal\n",
      "    multinomial:\n",
      "      _target_: hydra.utils.get_method\n",
      "      path: pyro.distributions.torch.Categorical\n",
      "    poisson:\n",
      "      _target_: hydra.utils.get_method\n",
      "      path: pyro.distributions.torch.Poisson\n",
      "  _target_: src.utils.multi_modal_distribution.get_product_distribution\n",
      "transition_distribution:\n",
      "  _target_: hydra.utils.get_method\n",
      "  path: pyro.distributions.Normal\n",
      "optimizer:\n",
      "  optimizer_class:\n",
      "    _target_: hydra.utils.get_method\n",
      "    path: pyro.optim.ClippedAdam\n",
      "  beta1: 0.96\n",
      "  beta2: 0.999\n",
      "  optim_args:\n",
      "    lr: 0.1\n",
      "    betas:\n",
      "    - 0.96\n",
      "    - 0.999\n",
      "    clip_norm: 10.0\n",
      "    lrd: 0.99996\n",
      "    weight_decay: 2.0\n",
      "training:\n",
      "  n_epochs: 1000\n",
      "metriccollection:\n",
      "  metrics:\n",
      "    mmd:\n",
      "      _target_: src.metrics.metrics.GaussianMaximumMeanDiscrepancy\n",
      "      bandwidth: 1\n",
      "    pse:\n",
      "      _target_: src.metrics.metrics.PowerSpectrumCorrelation\n",
      "      smoothing_sigma: 10\n",
      "      frequency_cutoff: 20000\n",
      "    nstepmse:\n",
      "      _target_: src.metrics.metrics.NStepMeanSquaredError\n",
      "      n_steps: 20\n",
      "      n_samples: 1000\n",
      "  kwargs:\n",
      "    n_steps: 30\n",
      "    n_samples: 1000\n",
      "\n"
     ]
    }
   ],
   "source": [
    "print(OmegaConf.to_yaml(cfg))"
   ]
  },
  {
   "cell_type": "code",
   "execution_count": 9,
   "metadata": {},
   "outputs": [
    {
     "name": "stdout",
     "output_type": "stream",
     "text": [
      "_target_: src.models.transition_models.PLRNN\n",
      "z_dim: 5\n",
      "connectivity_module:\n",
      "  _target_: src.models.transition_models.DendriticConnector\n",
      "  z_dim: 5\n",
      "  B: 10\n",
      "cov_module:\n",
      "  _target_: src.models.transition_models.ConstantCovariance\n",
      "  z_dim: 5\n",
      "\n"
     ]
    }
   ],
   "source": [
    "transition_model_config = cfg.transition_model\n",
    "print(OmegaConf.to_yaml(transition_model_config))"
   ]
  },
  {
   "cell_type": "markdown",
   "metadata": {},
   "source": [
    "to instantiate a model with hydra one uses the instantiate function:"
   ]
  },
  {
   "cell_type": "code",
   "execution_count": 65,
   "metadata": {},
   "outputs": [
    {
     "data": {
      "text/plain": [
       "PLRNN(\n",
       "  (diag): Diagonal()\n",
       "  (connectivity_module): DendriticConnector(\n",
       "    (off_diag): OffDiagonal()\n",
       "    (phi): DendriticPhi(\n",
       "      (relu): ReLU()\n",
       "    )\n",
       "  )\n",
       "  (cov_module): ConstantCovariance()\n",
       ")"
      ]
     },
     "execution_count": 65,
     "metadata": {},
     "output_type": "execute_result"
    }
   ],
   "source": [
    "transition_model = instantiate(transition_model_config)\n",
    "transition_model"
   ]
  },
  {
   "cell_type": "code",
   "execution_count": 11,
   "metadata": {},
   "outputs": [],
   "source": [
    "observation_model = instantiate(cfg.observation_model)\n",
    "observation_distribution = instantiate(cfg.observation_distribution)\n",
    "transition_distribution = instantiate(cfg.transition_distribution)\n"
   ]
  },
  {
   "cell_type": "code",
   "execution_count": 12,
   "metadata": {},
   "outputs": [
    {
     "data": {
      "text/plain": [
       "abc.Normal x Categorical x Poisson"
      ]
     },
     "execution_count": 12,
     "metadata": {},
     "output_type": "execute_result"
    }
   ],
   "source": [
    "observation_distribution"
   ]
  },
  {
   "cell_type": "markdown",
   "metadata": {},
   "source": [
    "# Pyro\n",
    "\n",
    "Pyro is a probabilistic programming language written in python which is compatible with pytorch models.\n",
    "\n",
    "for an intro i recommend reading the examples:\n",
    "\n",
    "https://pyro.ai/examples/intro_long.html  for a qucik overview\n",
    "\n",
    "\n",
    "https://pyro.ai/examples/minipyro.html #in order to understand what is going on under the hood. Note that there is an example at the bottom\n",
    "\n",
    "\n",
    "The point of this notebook is to show how elegantly  one can implement training pipelines without changing the underlying model"
   ]
  },
  {
   "cell_type": "markdown",
   "metadata": {},
   "source": [
    "To set the stage:  I've implemented a class that is capable to represent any plrnn model. Namely the `HiddenMarkovModel` class. It requires 4 objects to instantiate:\n",
    "\n",
    "- An observation Model which should be an  nn.Module\n",
    "- A transition Model also an nn.Module\n",
    "- An observation distribution  a  TorchDistribution\n",
    "- An transition distribution also a TorchDistribution\n",
    "\n",
    "The Models should return the parameters for the distributions. The user is responsible to take care that the shapes match. \n",
    "\n",
    "When Calling the HiddenMarkoVModel under the hood the following is run for all time steps:"
   ]
  },
  {
   "cell_type": "code",
   "execution_count": 76,
   "metadata": {},
   "outputs": [
    {
     "data": {
      "text/plain": [
       "tensor([[ 0.5843,  0.9101, -1.0782,  0.8000,  0.0000,  3.0000,  1.0000,  0.0000,\n",
       "          0.0000]])"
      ]
     },
     "execution_count": 76,
     "metadata": {},
     "output_type": "execute_result"
    }
   ],
   "source": [
    "import torch\n",
    "import torch.nn  as nn\n",
    "z_0  =nn.Parameter(torch.zeros(transition_model.z_dim))\n",
    "\n",
    "z_1_params = transition_model(z_0)\n",
    "z_1_dist = transition_distribution(*z_1_params)\n",
    "z_1 = pyro.sample(\"z_1\",z_1_dist)\n",
    "\n",
    "x_1_params = observation_model(z_1)\n",
    "x_1_dist = observation_distribution(*x_1_params)\n",
    "x_1 = pyro.sample(\"x_1\", x_1_dist)\n",
    "\n",
    "x_1"
   ]
  },
  {
   "cell_type": "markdown",
   "metadata": {},
   "source": [
    "Now the magic happens in the `pyro.sample` statement. It has quite a few side effects. It looks up a so call Pyro Stack that contains a list of so called messengers (which are context managers) which influence what the statement actually does.\n",
    "This helps to decouple model building from building the training pipeline. We will replicate the MTF pipeline using these messengers. If you want a deep dive into how exactly this works again consider the minipyro example: \n",
    "https://pyro.ai/examples/minipyro.html\n"
   ]
  },
  {
   "cell_type": "code",
   "execution_count": 58,
   "metadata": {},
   "outputs": [],
   "source": [
    "hmm = HiddenMarkovModel(transition_model, observation_model, observation_distribution,transition_distribution)\n",
    "# in pyro the variational distribution is called guide, we are considering an amortized variational inference approach. In the mtf code they refer to it as an encoder. We will use the name \"encoder\" from now on\n",
    "armotized_variational_distribution_model = encoder = guide = instantiate(cfg.guide) "
   ]
  },
  {
   "cell_type": "code",
   "execution_count": 31,
   "metadata": {},
   "outputs": [],
   "source": [
    "data_module = instantiate(cfg.data)\n",
    "data_module.setup(\"\")\n",
    "data_loader = data_module.train_dataloader()\n",
    "batch = list(data_loader)[0]\n",
    "batch[0][0]"
   ]
  },
  {
   "attachments": {
    "image.png": {
     "image/png": "[encoded data removed]"
    }
   },
   "cell_type": "markdown",
   "metadata": {},
   "source": [
    "The MTF Pipeline try to minimize the loss:\n",
    "\n",
    "![image.png](attachment:image.png)\n",
    "\n",
    "Now the first three terms of this loss are in my understanding just the vanilla negative elbo when using the plrnn + observation models as a model prior and the  encoder as a variational distribution.\n",
    "\n",
    "In pyro the following representation of the elbo is used:\n",
    "\n",
    "\n",
    "$\\mathcal{L}(\\phi, \\theta; Y) = -\\mathbb{E}_{q_\\phi}\\left[ \\ln(p_\\theta(x,z)\n",
    ") - \\ln(q_\\phi(z\\vert x)) \\right]$ \n"
   ]
  },
  {
   "cell_type": "markdown",
   "metadata": {},
   "source": [
    "\n",
    "In order to calculate the L_MTF loss we have to do the following steps:\n",
    "\n",
    "1. sample $z$ from $p_\\phi$ "
   ]
  },
  {
   "cell_type": "code",
   "execution_count": 77,
   "metadata": {},
   "outputs": [
    {
     "data": {
      "text/plain": [
       "{'type': 'sample',\n",
       " 'name': 'z_1',\n",
       " 'fn': Independent(MaskedDistribution(), 1),\n",
       " 'is_observed': False,\n",
       " 'args': (),\n",
       " 'kwargs': {},\n",
       " 'value': tensor([[ 0.3320, -0.0762, -0.8590, -0.0478, -0.3612]], grad_fn=<AddBackward0>),\n",
       " 'infer': {'_markov_scope': Counter(), '_markov_depth': 1},\n",
       " 'scale': 1.0,\n",
       " 'mask': None,\n",
       " 'cond_indep_stack': (),\n",
       " 'done': True,\n",
       " 'stop': False,\n",
       " 'continuation': None}"
      ]
     },
     "execution_count": 77,
     "metadata": {},
     "output_type": "execute_result"
    }
   ],
   "source": [
    "encoder_trace = pyro.poutine.trace(encoder).get_trace(batch)\n",
    "encoder_trace.nodes[\"z_1\"]"
   ]
  },
  {
   "cell_type": "markdown",
   "metadata": {},
   "source": [
    "2. run $p_\\theta$ with samples from 1. This can be achieved with the replay messenger of pyro"
   ]
  },
  {
   "cell_type": "code",
   "execution_count": null,
   "metadata": {},
   "outputs": [],
   "source": [
    "plrnn_trace = pyro.poutine.trace(pyro.poutine.replay(hmm, encoder_trace)).get_trace(batch)\n",
    "\n",
    "#check that the z samples are indeed the ones from the encoder trace\n",
    "plrnn_trace.nodes[\"z_7\"][\"value\"] == encoder_trace.nodes[\"z_7\"][\"value\"]"
   ]
  },
  {
   "cell_type": "markdown",
   "metadata": {},
   "source": [
    "3. calculate the log probability"
   ]
  },
  {
   "cell_type": "code",
   "execution_count": 51,
   "metadata": {},
   "outputs": [],
   "source": [
    "log_prob_p = plrnn_trace.log_prob_sum()\n",
    "log_prob_q = encoder_trace.log_prob_sum()"
   ]
  },
  {
   "cell_type": "markdown",
   "metadata": {},
   "source": [
    "4. Calculate $\\tilde{\\mathcal{L}}(\\phi, \\theta; Y)$"
   ]
  },
  {
   "cell_type": "code",
   "execution_count": 56,
   "metadata": {},
   "outputs": [],
   "source": [
    "neg_elbo  = log_prob_q - log_prob_p"
   ]
  },
  {
   "cell_type": "markdown",
   "metadata": {},
   "source": [
    "5. Rerun $p_\\theta$ where only each $\\tau$-th hidden state  of the encoder trace is used. For this one needs to implement a custom messenger which is straightforward to do"
   ]
  },
  {
   "cell_type": "code",
   "execution_count": 59,
   "metadata": {},
   "outputs": [],
   "source": [
    "from src.training.forcing_interval_replay import force\n",
    "tau = 30 \n",
    "forced_plrnn_trace = pyro.poutine.trace(force(hmm, encoder_trace, tau)).get_trace(batch)"
   ]
  },
  {
   "cell_type": "code",
   "execution_count": 61,
   "metadata": {},
   "outputs": [
    {
     "data": {
      "text/plain": [
       "tensor([[True, True, True, True, True]])"
      ]
     },
     "execution_count": 61,
     "metadata": {},
     "output_type": "execute_result"
    }
   ],
   "source": [
    "forced_plrnn_trace.nodes[f\"z_{tau}\"][\"value\"] == encoder_trace.nodes[f\"z_{tau}\"][\"value\"]"
   ]
  },
  {
   "cell_type": "code",
   "execution_count": 62,
   "metadata": {},
   "outputs": [
    {
     "data": {
      "text/plain": [
       "tensor([[False, False, False, False, False]])"
      ]
     },
     "execution_count": 62,
     "metadata": {},
     "output_type": "execute_result"
    }
   ],
   "source": [
    "forced_plrnn_trace.nodes[f\"z_{tau+1}\"][\"value\"] == encoder_trace.nodes[f\"z_{tau+1}\"][\"value\"]"
   ]
  },
  {
   "cell_type": "markdown",
   "metadata": {},
   "source": [
    "6. calculate log probability of observations $\\log p_\\theta(Y \\vert Z) =- \\mathcal{L}_{DSR}$"
   ]
  },
  {
   "cell_type": "code",
   "execution_count": 63,
   "metadata": {},
   "outputs": [],
   "source": [
    "loss_dsr = - forced_plrnn_trace.log_prob_sum(site_filter=lambda s,t:  \"x\" in s)"
   ]
  },
  {
   "cell_type": "markdown",
   "metadata": {},
   "source": [
    "7. calculate $\\mathcal{L}_{MTF}$"
   ]
  },
  {
   "cell_type": "code",
   "execution_count": null,
   "metadata": {},
   "outputs": [],
   "source": [
    "loss_mtf = neg_elbo + loss_dsr"
   ]
  },
  {
   "cell_type": "markdown",
   "metadata": {},
   "source": [
    "The gradients are tracked by the way and can be used for gradient descent."
   ]
  },
  {
   "cell_type": "markdown",
   "metadata": {},
   "source": []
  }
 ],
 "metadata": {
  "kernelspec": {
   "display_name": "venv",
   "language": "python",
   "name": "python3"
  },
  "language_info": {
   "codemirror_mode": {
    "name": "ipython",
    "version": 3
   },
   "file_extension": ".py",
   "mimetype": "text/x-python",
   "name": "python",
   "nbconvert_exporter": "python",
   "pygments_lexer": "ipython3",
   "version": "3.11.7"
  }
 },
 "nbformat": 4,
 "nbformat_minor": 2
}
